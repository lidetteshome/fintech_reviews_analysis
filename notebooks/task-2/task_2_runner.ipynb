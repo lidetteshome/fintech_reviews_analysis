{
 "cells": [
  {
   "cell_type": "code",
   "execution_count": null,
   "id": "bd62fe03",
   "metadata": {},
   "outputs": [
    {
     "name": "stdout",
     "output_type": "stream",
     "text": [
      "🚀 Running Task 2: Sentiment, Keywords & Themes\n",
      "📥 Loaded 1200 reviews from ../../data/raw_reviews.csv\n",
      "✅ Sentiment analysis complete.\n",
      "🗂️ Top keywords extracted: app, bank, banking, best, dashen, good, mobile, super, use, work\n",
      "🎯 Themes assigned to reviews.\n",
      "💾 Saved sentiment & themes to ../../data/sentiment_reviews.csv\n"
     ]
    },
    {
     "data": {
      "application/vnd.microsoft.datawrangler.viewer.v0+json": {
       "columns": [
        {
         "name": "index",
         "rawType": "int64",
         "type": "integer"
        },
        {
         "name": "review",
         "rawType": "object",
         "type": "string"
        },
        {
         "name": "sentiment_label",
         "rawType": "object",
         "type": "string"
        },
        {
         "name": "themes",
         "rawType": "object",
         "type": "string"
        }
       ],
       "ref": "9cb59c26-53f9-42dd-bee3-df912102ff8d",
       "rows": [
        [
         "0",
         "very niec",
         "neutral",
         "Uncategorized"
        ],
        [
         "1",
         "best app of finance",
         "positive",
         "Uncategorized"
        ],
        [
         "2",
         "yetemeta",
         "neutral",
         "Uncategorized"
        ],
        [
         "3",
         "Engida Kebede Fetera",
         "neutral",
         "Uncategorized"
        ],
        [
         "4",
         "good",
         "positive",
         "Uncategorized"
        ],
        [
         "5",
         "it is not safety",
         "negative",
         "Uncategorized"
        ],
        [
         "6",
         "NICE bank",
         "positive",
         "Uncategorized"
        ],
        [
         "7",
         "it is like a childish app make it better the worst I have ever seen",
         "negative",
         "Uncategorized"
        ],
        [
         "8",
         "It's a problem solver application, go ahead CBE, I love so much.",
         "positive",
         "Uncategorized"
        ],
        [
         "9",
         "It's good but try to make it facilitate for your client",
         "positive",
         "Uncategorized"
        ]
       ],
       "shape": {
        "columns": 3,
        "rows": 10
       }
      },
      "text/html": [
       "<div>\n",
       "<style scoped>\n",
       "    .dataframe tbody tr th:only-of-type {\n",
       "        vertical-align: middle;\n",
       "    }\n",
       "\n",
       "    .dataframe tbody tr th {\n",
       "        vertical-align: top;\n",
       "    }\n",
       "\n",
       "    .dataframe thead th {\n",
       "        text-align: right;\n",
       "    }\n",
       "</style>\n",
       "<table border=\"1\" class=\"dataframe\">\n",
       "  <thead>\n",
       "    <tr style=\"text-align: right;\">\n",
       "      <th></th>\n",
       "      <th>review</th>\n",
       "      <th>sentiment_label</th>\n",
       "      <th>themes</th>\n",
       "    </tr>\n",
       "  </thead>\n",
       "  <tbody>\n",
       "    <tr>\n",
       "      <th>0</th>\n",
       "      <td>very niec</td>\n",
       "      <td>neutral</td>\n",
       "      <td>Uncategorized</td>\n",
       "    </tr>\n",
       "    <tr>\n",
       "      <th>1</th>\n",
       "      <td>best app of finance</td>\n",
       "      <td>positive</td>\n",
       "      <td>Uncategorized</td>\n",
       "    </tr>\n",
       "    <tr>\n",
       "      <th>2</th>\n",
       "      <td>yetemeta</td>\n",
       "      <td>neutral</td>\n",
       "      <td>Uncategorized</td>\n",
       "    </tr>\n",
       "    <tr>\n",
       "      <th>3</th>\n",
       "      <td>Engida Kebede Fetera</td>\n",
       "      <td>neutral</td>\n",
       "      <td>Uncategorized</td>\n",
       "    </tr>\n",
       "    <tr>\n",
       "      <th>4</th>\n",
       "      <td>good</td>\n",
       "      <td>positive</td>\n",
       "      <td>Uncategorized</td>\n",
       "    </tr>\n",
       "    <tr>\n",
       "      <th>5</th>\n",
       "      <td>it is not safety</td>\n",
       "      <td>negative</td>\n",
       "      <td>Uncategorized</td>\n",
       "    </tr>\n",
       "    <tr>\n",
       "      <th>6</th>\n",
       "      <td>NICE bank</td>\n",
       "      <td>positive</td>\n",
       "      <td>Uncategorized</td>\n",
       "    </tr>\n",
       "    <tr>\n",
       "      <th>7</th>\n",
       "      <td>it is like a childish app make it better the w...</td>\n",
       "      <td>negative</td>\n",
       "      <td>Uncategorized</td>\n",
       "    </tr>\n",
       "    <tr>\n",
       "      <th>8</th>\n",
       "      <td>It's a problem solver application, go ahead CB...</td>\n",
       "      <td>positive</td>\n",
       "      <td>Uncategorized</td>\n",
       "    </tr>\n",
       "    <tr>\n",
       "      <th>9</th>\n",
       "      <td>It's good but try to make it facilitate for yo...</td>\n",
       "      <td>positive</td>\n",
       "      <td>Uncategorized</td>\n",
       "    </tr>\n",
       "  </tbody>\n",
       "</table>\n",
       "</div>"
      ],
      "text/plain": [
       "                                              review sentiment_label  \\\n",
       "0                                          very niec         neutral   \n",
       "1                                best app of finance        positive   \n",
       "2                                           yetemeta         neutral   \n",
       "3                               Engida Kebede Fetera         neutral   \n",
       "4                                               good        positive   \n",
       "5                                   it is not safety        negative   \n",
       "6                                          NICE bank        positive   \n",
       "7  it is like a childish app make it better the w...        negative   \n",
       "8  It's a problem solver application, go ahead CB...        positive   \n",
       "9  It's good but try to make it facilitate for yo...        positive   \n",
       "\n",
       "          themes  \n",
       "0  Uncategorized  \n",
       "1  Uncategorized  \n",
       "2  Uncategorized  \n",
       "3  Uncategorized  \n",
       "4  Uncategorized  \n",
       "5  Uncategorized  \n",
       "6  Uncategorized  \n",
       "7  Uncategorized  \n",
       "8  Uncategorized  \n",
       "9  Uncategorized  "
      ]
     },
     "execution_count": 1,
     "metadata": {},
     "output_type": "execute_result"
    }
   ],
   "source": [
    "# task_2_runner.ipynb\n",
    "import sys\n",
    "sys.path.append(\"../../scripts/task-2\")\n",
    "from analyzer import ReviewAnalyzer\n",
    "\n",
    "analyzer = ReviewAnalyzer(\n",
    "    input_csv=\"../../data/raw_reviews.csv\",\n",
    "    output_csv=\"../../data/sentiment_reviews.csv\",\n",
    "    top_n_keywords=10\n",
    ")\n",
    "\n",
    "df = analyzer.run()\n",
    "df[[\"review\", \"sentiment_label\", \"themes\"]].head(10)"
   ]
  }
 ],
 "metadata": {
  "kernelspec": {
   "display_name": ".venv",
   "language": "python",
   "name": "python3"
  },
  "language_info": {
   "codemirror_mode": {
    "name": "ipython",
    "version": 3
   },
   "file_extension": ".py",
   "mimetype": "text/x-python",
   "name": "python",
   "nbconvert_exporter": "python",
   "pygments_lexer": "ipython3",
   "version": "3.12.2"
  }
 },
 "nbformat": 4,
 "nbformat_minor": 5
}

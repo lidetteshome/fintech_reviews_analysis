{
 "cells": [
  {
   "cell_type": "code",
   "execution_count": 1,
   "id": "e6eec92b",
   "metadata": {},
   "outputs": [
    {
     "name": "stdout",
     "output_type": "stream",
     "text": [
      "🚀 Running Task 3: Oracle DB Insert\n",
      "📥 Loaded 1200 records from ../../data/sentiment_reviews.csv\n",
      "🔌 Connected to Oracle XE\n",
      "🛠️ Tables checked/created\n",
      "✅ Inserted 1200 reviews into the Oracle DB\n",
      "🔒 Connection closed\n"
     ]
    }
   ],
   "source": [
    "# task_2_runner.ipynb\n",
    "import sys\n",
    "sys.path.append(\"../../scripts/task-3\")\n",
    "from db_inserter import OracleDBInserter\n",
    "\n",
    "inserter = OracleDBInserter(\n",
    "    csv_path=\"../../data/sentiment_reviews.csv\",\n",
    "    user=\"system\",\n",
    "    password=\"MyPassword123\",\n",
    "    dsn=\"localhost/XEPDB1\"\n",
    ")\n",
    "\n",
    "inserter.run()"
   ]
  }
 ],
 "metadata": {
  "kernelspec": {
   "display_name": ".venv",
   "language": "python",
   "name": "python3"
  },
  "language_info": {
   "codemirror_mode": {
    "name": "ipython",
    "version": 3
   },
   "file_extension": ".py",
   "mimetype": "text/x-python",
   "name": "python",
   "nbconvert_exporter": "python",
   "pygments_lexer": "ipython3",
   "version": "3.12.2"
  }
 },
 "nbformat": 4,
 "nbformat_minor": 5
}

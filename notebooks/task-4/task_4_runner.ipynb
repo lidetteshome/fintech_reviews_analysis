{
 "cells": [
  {
   "cell_type": "code",
   "execution_count": 3,
   "id": "2cd1d925",
   "metadata": {},
   "outputs": [
    {
     "name": "stdout",
     "output_type": "stream",
     "text": [
      "🚀 Task 4: Generating Visuals & Insights\n",
      "📊 Saved plot: ../../outputs/sentiment_distribution.png\n",
      "📊 Saved plot: ../../outputs/rating_distribution.png\n",
      "📊 Saved plot: ../../outputs/wordcloud_Uncategorized.png\n",
      "📊 Saved plot: ../../outputs/wordcloud_Feature_Requests.png\n",
      "📊 Saved plot: ../../outputs/wordcloud_Customer_Support.png\n",
      "📊 Saved plot: ../../outputs/wordcloud_Performance.png\n",
      "📊 Saved plot: ../../outputs/wordcloud_UI/UX.png\n",
      "📊 Saved plot: ../../outputs/wordcloud_UI/UX,_Feature_Requests.png\n",
      "📊 Saved plot: ../../outputs/wordcloud_Performance,_Feature_Requests.png\n",
      "📊 Saved plot: ../../outputs/wordcloud_Login_Issues,_Performance,_Feature_Requests.png\n",
      "📊 Saved plot: ../../outputs/wordcloud_Login_Issues.png\n",
      "📊 Saved plot: ../../outputs/wordcloud_Customer_Support,_Feature_Requests.png\n",
      "📊 Saved plot: ../../outputs/wordcloud_UI/UX,_Performance.png\n",
      "📊 Saved plot: ../../outputs/wordcloud_Performance,_Customer_Support.png\n",
      "📊 Saved plot: ../../outputs/wordcloud_Login_Issues,_Feature_Requests.png\n",
      "📊 Saved plot: ../../outputs/wordcloud_UI/UX,_Login_Issues.png\n",
      "📊 Saved plot: ../../outputs/wordcloud_Login_Issues,_Performance.png\n",
      "📊 Saved plot: ../../outputs/wordcloud_Login_Issues,_Customer_Support.png\n"
     ]
    },
    {
     "data": {
      "text/plain": [
       "{'CBE': {'drivers': ['app', 'i', 'good'], 'pain_points': ['app', 'i', 'of']},\n",
       " 'BOA': {'drivers': ['app', 'i', 'good'], 'pain_points': ['app', 'i', 'a']},\n",
       " 'Dashen': {'drivers': ['app', 'a', 'dashen'],\n",
       "  'pain_points': ['not', 'app', 'you']}}"
      ]
     },
     "execution_count": 3,
     "metadata": {},
     "output_type": "execute_result"
    }
   ],
   "source": [
    "# task_2_runner.ipynb\n",
    "import sys\n",
    "sys.path.append(\"../../scripts/task-4\")\n",
    "from visualizer import ReviewVisualizer\n",
    "\n",
    "viz = ReviewVisualizer(\n",
    "    input_csv=\"../../data/sentiment_reviews.csv\",\n",
    "    output_dir=\"../../outputs\"\n",
    ")\n",
    "insights = viz.run_all()\n",
    "insights"
   ]
  }
 ],
 "metadata": {
  "kernelspec": {
   "display_name": ".venv",
   "language": "python",
   "name": "python3"
  },
  "language_info": {
   "codemirror_mode": {
    "name": "ipython",
    "version": 3
   },
   "file_extension": ".py",
   "mimetype": "text/x-python",
   "name": "python",
   "nbconvert_exporter": "python",
   "pygments_lexer": "ipython3",
   "version": "3.12.2"
  }
 },
 "nbformat": 4,
 "nbformat_minor": 5
}

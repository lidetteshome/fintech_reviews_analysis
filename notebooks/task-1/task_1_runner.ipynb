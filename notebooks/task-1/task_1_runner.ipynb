{
 "cells": [
  {
   "cell_type": "code",
   "execution_count": 3,
   "id": "089fa481",
   "metadata": {},
   "outputs": [
    {
     "name": "stdout",
     "output_type": "stream",
     "text": [
      "🚀 Running Task 1: Scrape + Preprocess\n",
      "🔍 Scraping 600 reviews for CBE...\n",
      "🧹 Cleaned 142 rows for CBE. Final count: 458\n",
      "🔍 Scraping 600 reviews for BOA...\n",
      "🧹 Cleaned 82 rows for BOA. Final count: 518\n",
      "🔍 Scraping 600 reviews for Dashen...\n",
      "🧹 Cleaned 41 rows for Dashen. Final count: 408\n",
      "✅ Saved 1200 cleaned reviews to ../../data/raw_reviews.csv\n"
     ]
    },
    {
     "data": {
      "application/vnd.microsoft.datawrangler.viewer.v0+json": {
       "columns": [
        {
         "name": "index",
         "rawType": "int64",
         "type": "integer"
        },
        {
         "name": "review",
         "rawType": "object",
         "type": "string"
        },
        {
         "name": "rating",
         "rawType": "int64",
         "type": "integer"
        },
        {
         "name": "date",
         "rawType": "object",
         "type": "string"
        },
        {
         "name": "bank",
         "rawType": "object",
         "type": "string"
        },
        {
         "name": "source",
         "rawType": "object",
         "type": "string"
        }
       ],
       "ref": "8390d20c-b650-4f54-86cc-b82f32dcae7c",
       "rows": [
        [
         "0",
         "very niec",
         "5",
         "2025-06-04",
         "CBE",
         "Google Play"
        ],
        [
         "1",
         "best app of finance",
         "5",
         "2025-06-04",
         "CBE",
         "Google Play"
        ],
        [
         "2",
         "yetemeta",
         "1",
         "2025-06-03",
         "CBE",
         "Google Play"
        ],
        [
         "3",
         "Engida Kebede Fetera",
         "5",
         "2025-06-03",
         "CBE",
         "Google Play"
        ],
        [
         "4",
         "good",
         "5",
         "2025-06-03",
         "CBE",
         "Google Play"
        ]
       ],
       "shape": {
        "columns": 5,
        "rows": 5
       }
      },
      "text/html": [
       "<div>\n",
       "<style scoped>\n",
       "    .dataframe tbody tr th:only-of-type {\n",
       "        vertical-align: middle;\n",
       "    }\n",
       "\n",
       "    .dataframe tbody tr th {\n",
       "        vertical-align: top;\n",
       "    }\n",
       "\n",
       "    .dataframe thead th {\n",
       "        text-align: right;\n",
       "    }\n",
       "</style>\n",
       "<table border=\"1\" class=\"dataframe\">\n",
       "  <thead>\n",
       "    <tr style=\"text-align: right;\">\n",
       "      <th></th>\n",
       "      <th>review</th>\n",
       "      <th>rating</th>\n",
       "      <th>date</th>\n",
       "      <th>bank</th>\n",
       "      <th>source</th>\n",
       "    </tr>\n",
       "  </thead>\n",
       "  <tbody>\n",
       "    <tr>\n",
       "      <th>0</th>\n",
       "      <td>very niec</td>\n",
       "      <td>5</td>\n",
       "      <td>2025-06-04</td>\n",
       "      <td>CBE</td>\n",
       "      <td>Google Play</td>\n",
       "    </tr>\n",
       "    <tr>\n",
       "      <th>1</th>\n",
       "      <td>best app of finance</td>\n",
       "      <td>5</td>\n",
       "      <td>2025-06-04</td>\n",
       "      <td>CBE</td>\n",
       "      <td>Google Play</td>\n",
       "    </tr>\n",
       "    <tr>\n",
       "      <th>2</th>\n",
       "      <td>yetemeta</td>\n",
       "      <td>1</td>\n",
       "      <td>2025-06-03</td>\n",
       "      <td>CBE</td>\n",
       "      <td>Google Play</td>\n",
       "    </tr>\n",
       "    <tr>\n",
       "      <th>3</th>\n",
       "      <td>Engida Kebede Fetera</td>\n",
       "      <td>5</td>\n",
       "      <td>2025-06-03</td>\n",
       "      <td>CBE</td>\n",
       "      <td>Google Play</td>\n",
       "    </tr>\n",
       "    <tr>\n",
       "      <th>4</th>\n",
       "      <td>good</td>\n",
       "      <td>5</td>\n",
       "      <td>2025-06-03</td>\n",
       "      <td>CBE</td>\n",
       "      <td>Google Play</td>\n",
       "    </tr>\n",
       "  </tbody>\n",
       "</table>\n",
       "</div>"
      ],
      "text/plain": [
       "                 review  rating        date bank       source\n",
       "0             very niec       5  2025-06-04  CBE  Google Play\n",
       "1   best app of finance       5  2025-06-04  CBE  Google Play\n",
       "2              yetemeta       1  2025-06-03  CBE  Google Play\n",
       "3  Engida Kebede Fetera       5  2025-06-03  CBE  Google Play\n",
       "4                  good       5  2025-06-03  CBE  Google Play"
      ]
     },
     "execution_count": 3,
     "metadata": {},
     "output_type": "execute_result"
    }
   ],
   "source": [
    "# task_1_runner.ipynb - Cell 1\n",
    "import sys\n",
    "sys.path.append(\"../../scripts/task-1\")\n",
    "\n",
    "from scraper import GooglePlayReviewScraper\n",
    "\n",
    "apps = {\n",
    "    \"CBE\": \"com.combanketh.mobilebanking\",\n",
    "    \"BOA\": \"com.boa.boaMobileBanking\",\n",
    "    \"Dashen\": \"com.dashen.dashensuperapp\"\n",
    "}\n",
    "\n",
    "scraper = GooglePlayReviewScraper(\n",
    "    apps=apps,\n",
    "    output_path=\"../../data/raw_reviews.csv\",\n",
    "    reviews_per_bank=400,\n",
    "    scrape_limit=600   # Scrape extra to ensure we get clean 400\n",
    ")\n",
    "df = scraper.run()\n",
    "df.head()"
   ]
  },
  {
   "cell_type": "code",
   "execution_count": null,
   "id": "2d35949d",
   "metadata": {},
   "outputs": [],
   "source": []
  }
 ],
 "metadata": {
  "kernelspec": {
   "display_name": ".venv",
   "language": "python",
   "name": "python3"
  },
  "language_info": {
   "codemirror_mode": {
    "name": "ipython",
    "version": 3
   },
   "file_extension": ".py",
   "mimetype": "text/x-python",
   "name": "python",
   "nbconvert_exporter": "python",
   "pygments_lexer": "ipython3",
   "version": "3.12.2"
  }
 },
 "nbformat": 4,
 "nbformat_minor": 5
}
